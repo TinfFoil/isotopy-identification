{
  "nbformat": 4,
  "nbformat_minor": 0,
  "metadata": {
    "colab": {
      "provenance": []
    },
    "kernelspec": {
      "name": "python3",
      "display_name": "Python 3"
    },
    "language_info": {
      "name": "python"
    }
  },
  "cells": [
    {
      "cell_type": "markdown",
      "source": [
        "# Preprocessing \n",
        "\n",
        "This notebook contains the preprocessing options for the data obtained from \n",
        "season_data_preparation.ipynb. The input is the following:\n",
        "\n",
        "1.   An XLSX file grouped by segment, i.e. the output of [season_data_preparation.ipynb](https://github.com/TinfFoil/dar_tvseries/blob/main/season_data_preparation.ipynb) when option [1] is selected.\n",
        "\n",
        "\n"
      ],
      "metadata": {
        "id": "0P-n_BCPlT-Z"
      }
    },
    {
      "cell_type": "markdown",
      "source": [
        "# Libraries"
      ],
      "metadata": {
        "id": "CDAnJKdSjcle"
      }
    },
    {
      "cell_type": "markdown",
      "source": [
        "The main libraries used in this notebook are Scikit-Learn and Numpy, which provide tools for model training and evaluation. Regular expressions and Spacy are also used for preprocessing."
      ],
      "metadata": {
        "id": "hfNGMTtBns1B"
      }
    },
    {
      "cell_type": "code",
      "source": [
        "from sklearn.feature_extraction.text import TfidfVectorizer\n",
        "from sklearn.neighbors import KNeighborsRegressor\n",
        "from sklearn.tree import DecisionTreeRegressor\n",
        "from sklearn.linear_model import LinearRegression\n",
        "\n",
        "from numpy import absolute\n",
        "from numpy import mean\n",
        "from numpy import std\n",
        "from sklearn.model_selection import cross_val_score\n",
        "from sklearn.model_selection import RepeatedKFold\n",
        "from sklearn.metrics import mean_absolute_error\n",
        "\n",
        "import matplotlib.pyplot as plot\n",
        "import pandas as pd\n",
        "import spacy\n",
        "import spacy.cli\n",
        "import re\n",
        "\n",
        "spacy.cli.download(\"en_core_web_sm\")"
      ],
      "metadata": {
        "id": "GH0doj5yjWA4",
        "colab": {
          "base_uri": "https://localhost:8080/"
        },
        "outputId": "90cbf570-ad9e-41e6-cf24-a4d9e2c3b675"
      },
      "execution_count": null,
      "outputs": [
        {
          "output_type": "stream",
          "name": "stdout",
          "text": [
            "\u001b[38;5;2m✔ Download and installation successful\u001b[0m\n",
            "You can now load the package via spacy.load('en_core_web_sm')\n"
          ]
        }
      ]
    },
    {
      "cell_type": "markdown",
      "source": [
        "# Importing the XLSX file\n"
      ],
      "metadata": {
        "id": "BZzpy18PqfPZ"
      }
    },
    {
      "cell_type": "code",
      "source": [
        "# Opening aligned .xlsx file \n",
        "\n",
        "excel_path = input('Enter .xlsx file path: ')\n",
        "df = pd.read_excel(excel_path, index_col=0)"
      ],
      "metadata": {
        "id": "WC34PupFjXDG",
        "colab": {
          "base_uri": "https://localhost:8080/"
        },
        "outputId": "039d1d0a-f57d-48c2-fcde-99823b77e7a7"
      },
      "execution_count": null,
      "outputs": [
        {
          "name": "stdout",
          "output_type": "stream",
          "text": [
            "Enter .xlsx file path: /content/season_13_with_subtitles.xlsx\n"
          ]
        }
      ]
    },
    {
      "cell_type": "code",
      "source": [
        "# Structure of the .xlsx file\n",
        "\n",
        "df"
      ],
      "metadata": {
        "colab": {
          "base_uri": "https://localhost:8080/",
          "height": 424
        },
        "id": "TM3cQ7drUAXS",
        "outputId": "d8b1d9da-4979-4c99-d686-965182c7096b"
      },
      "execution_count": null,
      "outputs": [
        {
          "output_type": "execute_result",
          "data": {
            "text/plain": [
              "          Code Segment start Segment end  PP  SP  MC  \\\n",
              "0     GAS13E01      00:00:00    00:00:44   0   0   0   \n",
              "1     GAS13E01      00:00:44    00:00:49   0   0   0   \n",
              "2     GAS13E01      00:00:49    00:02:18   0   6   0   \n",
              "3     GAS13E01      00:02:18    00:02:36   2   2   2   \n",
              "4     GAS13E01      00:02:36    00:03:18   0   6   0   \n",
              "...        ...           ...         ...  ..  ..  ..   \n",
              "1466  GAS13E24      00:40:58    00:41:23   0   0   6   \n",
              "1467  GAS13E24      00:41:23    00:41:43   0   0   0   \n",
              "1468  GAS13E24      00:41:43    00:41:47   0   0   6   \n",
              "1469  GAS13E24      00:41:59    00:42:10   0   0   6   \n",
              "1470  GAS13E24      00:42:10    00:42:18   0   0   0   \n",
              "\n",
              "                                           Segment text  \n",
              "0     <i>Previously on \"Grey's Anatomy\"...</i> I wan...  \n",
              "1                                                    ♪   \n",
              "2     ♪ I ain't got no problem ♪ ♪ That's for real ♪...  \n",
              "3     [Siren wails] Isaac: What do we got? We got a ...  \n",
              "4     Two champagnes. You got it. I thought you were...  \n",
              "...                                                 ...  \n",
              "1466  [Engine starts] <i>Nobody wakes up thinking, \"...  \n",
              "1467  <i>Sometimes, we wake up, we face our fears......  \n",
              "1468               <i>We take them by the hand.</i> ♪♪   \n",
              "1469  ♪ So far away ♪ <i>- And we stand there, waiti...  \n",
              "1470  ♪ But you don't see me standing here ♪ Synced ...  \n",
              "\n",
              "[1471 rows x 7 columns]"
            ],
            "text/html": [
              "\n",
              "  <div id=\"df-3f103f5b-d504-4810-96d5-3ab09a7ef099\">\n",
              "    <div class=\"colab-df-container\">\n",
              "      <div>\n",
              "<style scoped>\n",
              "    .dataframe tbody tr th:only-of-type {\n",
              "        vertical-align: middle;\n",
              "    }\n",
              "\n",
              "    .dataframe tbody tr th {\n",
              "        vertical-align: top;\n",
              "    }\n",
              "\n",
              "    .dataframe thead th {\n",
              "        text-align: right;\n",
              "    }\n",
              "</style>\n",
              "<table border=\"1\" class=\"dataframe\">\n",
              "  <thead>\n",
              "    <tr style=\"text-align: right;\">\n",
              "      <th></th>\n",
              "      <th>Code</th>\n",
              "      <th>Segment start</th>\n",
              "      <th>Segment end</th>\n",
              "      <th>PP</th>\n",
              "      <th>SP</th>\n",
              "      <th>MC</th>\n",
              "      <th>Segment text</th>\n",
              "    </tr>\n",
              "  </thead>\n",
              "  <tbody>\n",
              "    <tr>\n",
              "      <th>0</th>\n",
              "      <td>GAS13E01</td>\n",
              "      <td>00:00:00</td>\n",
              "      <td>00:00:44</td>\n",
              "      <td>0</td>\n",
              "      <td>0</td>\n",
              "      <td>0</td>\n",
              "      <td>&lt;i&gt;Previously on \"Grey's Anatomy\"...&lt;/i&gt; I wan...</td>\n",
              "    </tr>\n",
              "    <tr>\n",
              "      <th>1</th>\n",
              "      <td>GAS13E01</td>\n",
              "      <td>00:00:44</td>\n",
              "      <td>00:00:49</td>\n",
              "      <td>0</td>\n",
              "      <td>0</td>\n",
              "      <td>0</td>\n",
              "      <td>♪</td>\n",
              "    </tr>\n",
              "    <tr>\n",
              "      <th>2</th>\n",
              "      <td>GAS13E01</td>\n",
              "      <td>00:00:49</td>\n",
              "      <td>00:02:18</td>\n",
              "      <td>0</td>\n",
              "      <td>6</td>\n",
              "      <td>0</td>\n",
              "      <td>♪ I ain't got no problem ♪ ♪ That's for real ♪...</td>\n",
              "    </tr>\n",
              "    <tr>\n",
              "      <th>3</th>\n",
              "      <td>GAS13E01</td>\n",
              "      <td>00:02:18</td>\n",
              "      <td>00:02:36</td>\n",
              "      <td>2</td>\n",
              "      <td>2</td>\n",
              "      <td>2</td>\n",
              "      <td>[Siren wails] Isaac: What do we got? We got a ...</td>\n",
              "    </tr>\n",
              "    <tr>\n",
              "      <th>4</th>\n",
              "      <td>GAS13E01</td>\n",
              "      <td>00:02:36</td>\n",
              "      <td>00:03:18</td>\n",
              "      <td>0</td>\n",
              "      <td>6</td>\n",
              "      <td>0</td>\n",
              "      <td>Two champagnes. You got it. I thought you were...</td>\n",
              "    </tr>\n",
              "    <tr>\n",
              "      <th>...</th>\n",
              "      <td>...</td>\n",
              "      <td>...</td>\n",
              "      <td>...</td>\n",
              "      <td>...</td>\n",
              "      <td>...</td>\n",
              "      <td>...</td>\n",
              "      <td>...</td>\n",
              "    </tr>\n",
              "    <tr>\n",
              "      <th>1466</th>\n",
              "      <td>GAS13E24</td>\n",
              "      <td>00:40:58</td>\n",
              "      <td>00:41:23</td>\n",
              "      <td>0</td>\n",
              "      <td>0</td>\n",
              "      <td>6</td>\n",
              "      <td>[Engine starts] &lt;i&gt;Nobody wakes up thinking, \"...</td>\n",
              "    </tr>\n",
              "    <tr>\n",
              "      <th>1467</th>\n",
              "      <td>GAS13E24</td>\n",
              "      <td>00:41:23</td>\n",
              "      <td>00:41:43</td>\n",
              "      <td>0</td>\n",
              "      <td>0</td>\n",
              "      <td>0</td>\n",
              "      <td>&lt;i&gt;Sometimes, we wake up, we face our fears......</td>\n",
              "    </tr>\n",
              "    <tr>\n",
              "      <th>1468</th>\n",
              "      <td>GAS13E24</td>\n",
              "      <td>00:41:43</td>\n",
              "      <td>00:41:47</td>\n",
              "      <td>0</td>\n",
              "      <td>0</td>\n",
              "      <td>6</td>\n",
              "      <td>&lt;i&gt;We take them by the hand.&lt;/i&gt; ♪♪</td>\n",
              "    </tr>\n",
              "    <tr>\n",
              "      <th>1469</th>\n",
              "      <td>GAS13E24</td>\n",
              "      <td>00:41:59</td>\n",
              "      <td>00:42:10</td>\n",
              "      <td>0</td>\n",
              "      <td>0</td>\n",
              "      <td>6</td>\n",
              "      <td>♪ So far away ♪ &lt;i&gt;- And we stand there, waiti...</td>\n",
              "    </tr>\n",
              "    <tr>\n",
              "      <th>1470</th>\n",
              "      <td>GAS13E24</td>\n",
              "      <td>00:42:10</td>\n",
              "      <td>00:42:18</td>\n",
              "      <td>0</td>\n",
              "      <td>0</td>\n",
              "      <td>0</td>\n",
              "      <td>♪ But you don't see me standing here ♪ Synced ...</td>\n",
              "    </tr>\n",
              "  </tbody>\n",
              "</table>\n",
              "<p>1471 rows × 7 columns</p>\n",
              "</div>\n",
              "      <button class=\"colab-df-convert\" onclick=\"convertToInteractive('df-3f103f5b-d504-4810-96d5-3ab09a7ef099')\"\n",
              "              title=\"Convert this dataframe to an interactive table.\"\n",
              "              style=\"display:none;\">\n",
              "        \n",
              "  <svg xmlns=\"http://www.w3.org/2000/svg\" height=\"24px\"viewBox=\"0 0 24 24\"\n",
              "       width=\"24px\">\n",
              "    <path d=\"M0 0h24v24H0V0z\" fill=\"none\"/>\n",
              "    <path d=\"M18.56 5.44l.94 2.06.94-2.06 2.06-.94-2.06-.94-.94-2.06-.94 2.06-2.06.94zm-11 1L8.5 8.5l.94-2.06 2.06-.94-2.06-.94L8.5 2.5l-.94 2.06-2.06.94zm10 10l.94 2.06.94-2.06 2.06-.94-2.06-.94-.94-2.06-.94 2.06-2.06.94z\"/><path d=\"M17.41 7.96l-1.37-1.37c-.4-.4-.92-.59-1.43-.59-.52 0-1.04.2-1.43.59L10.3 9.45l-7.72 7.72c-.78.78-.78 2.05 0 2.83L4 21.41c.39.39.9.59 1.41.59.51 0 1.02-.2 1.41-.59l7.78-7.78 2.81-2.81c.8-.78.8-2.07 0-2.86zM5.41 20L4 18.59l7.72-7.72 1.47 1.35L5.41 20z\"/>\n",
              "  </svg>\n",
              "      </button>\n",
              "      \n",
              "  <style>\n",
              "    .colab-df-container {\n",
              "      display:flex;\n",
              "      flex-wrap:wrap;\n",
              "      gap: 12px;\n",
              "    }\n",
              "\n",
              "    .colab-df-convert {\n",
              "      background-color: #E8F0FE;\n",
              "      border: none;\n",
              "      border-radius: 50%;\n",
              "      cursor: pointer;\n",
              "      display: none;\n",
              "      fill: #1967D2;\n",
              "      height: 32px;\n",
              "      padding: 0 0 0 0;\n",
              "      width: 32px;\n",
              "    }\n",
              "\n",
              "    .colab-df-convert:hover {\n",
              "      background-color: #E2EBFA;\n",
              "      box-shadow: 0px 1px 2px rgba(60, 64, 67, 0.3), 0px 1px 3px 1px rgba(60, 64, 67, 0.15);\n",
              "      fill: #174EA6;\n",
              "    }\n",
              "\n",
              "    [theme=dark] .colab-df-convert {\n",
              "      background-color: #3B4455;\n",
              "      fill: #D2E3FC;\n",
              "    }\n",
              "\n",
              "    [theme=dark] .colab-df-convert:hover {\n",
              "      background-color: #434B5C;\n",
              "      box-shadow: 0px 1px 3px 1px rgba(0, 0, 0, 0.15);\n",
              "      filter: drop-shadow(0px 1px 2px rgba(0, 0, 0, 0.3));\n",
              "      fill: #FFFFFF;\n",
              "    }\n",
              "  </style>\n",
              "\n",
              "      <script>\n",
              "        const buttonEl =\n",
              "          document.querySelector('#df-3f103f5b-d504-4810-96d5-3ab09a7ef099 button.colab-df-convert');\n",
              "        buttonEl.style.display =\n",
              "          google.colab.kernel.accessAllowed ? 'block' : 'none';\n",
              "\n",
              "        async function convertToInteractive(key) {\n",
              "          const element = document.querySelector('#df-3f103f5b-d504-4810-96d5-3ab09a7ef099');\n",
              "          const dataTable =\n",
              "            await google.colab.kernel.invokeFunction('convertToInteractive',\n",
              "                                                     [key], {});\n",
              "          if (!dataTable) return;\n",
              "\n",
              "          const docLinkHtml = 'Like what you see? Visit the ' +\n",
              "            '<a target=\"_blank\" href=https://colab.research.google.com/notebooks/data_table.ipynb>data table notebook</a>'\n",
              "            + ' to learn more about interactive tables.';\n",
              "          element.innerHTML = '';\n",
              "          dataTable['output_type'] = 'display_data';\n",
              "          await google.colab.output.renderOutput(dataTable, element);\n",
              "          const docLink = document.createElement('div');\n",
              "          docLink.innerHTML = docLinkHtml;\n",
              "          element.appendChild(docLink);\n",
              "        }\n",
              "      </script>\n",
              "    </div>\n",
              "  </div>\n",
              "  "
            ]
          },
          "metadata": {},
          "execution_count": 67
        }
      ]
    },
    {
      "cell_type": "markdown",
      "source": [
        "# Preprocessing"
      ],
      "metadata": {
        "id": "kdUsdI_LDE9T"
      }
    },
    {
      "cell_type": "markdown",
      "source": [
        "In this section, the following elements are **removed** from the text:\n",
        "1.   Unallowed label combinations (\"6 0 6\")\n",
        "2.   Song lyrics and markup symbols (\"< i >< / i >\")\n",
        "3.   Boilerplates (\"Synced & corrected by...\")\n",
        "4.   Off-camera speaker's names\n",
        "5.   Noises between square brackets (\"[Siren wails]\")\n",
        "6.   All punctuation except hyphens and apostrophes \n",
        "7.   Filler words (\"Uh\", \"Wow\") \n",
        "8.   Uppercase characters (converted to lowercase)\n",
        "9.  Rows shorter than two characters \n",
        "10.   Double spaces\n"
      ],
      "metadata": {
        "id": "AR4982IlrWSk"
      }
    },
    {
      "cell_type": "code",
      "source": [
        "# Merging the labels into one column\n",
        "\n",
        "df['Labels'] = df['PP'].astype(str) + ' ' + df['SP'].astype(str) + ' ' + df['MC'].astype(str)"
      ],
      "metadata": {
        "id": "rYrISp5Gjhl7"
      },
      "execution_count": null,
      "outputs": []
    },
    {
      "cell_type": "code",
      "source": [
        "# There are a few combinations to be fixed, like 2 6 0 \n",
        "\n",
        "value_counts = df['Labels'].value_counts() \n",
        "print(value_counts[value_counts < 2]) # Label combinations that appear only once"
      ],
      "metadata": {
        "colab": {
          "base_uri": "https://localhost:8080/"
        },
        "id": "hS4AOR2HUW5W",
        "outputId": "8b1ad3f5-7f57-4db2-bba6-abb616f49fee"
      },
      "execution_count": null,
      "outputs": [
        {
          "output_type": "stream",
          "name": "stdout",
          "text": [
            "2 6 0    1\n",
            "0 3 0    1\n",
            "1 1 4    1\n",
            "0 6 6    1\n",
            "0 0 3    1\n",
            "2 3 1    1\n",
            "6 0 6    1\n",
            "Name: Labels, dtype: int64\n"
          ]
        }
      ]
    },
    {
      "cell_type": "code",
      "source": [
        "# Fixing the labels\n",
        "\n",
        "df.loc[351,'SP'] = [4]\n",
        "df.loc[462,'PP'] = [3]\n",
        "df.loc[221,'SP'] = [0]\n",
        "df.loc[168,'MC'] = [6] \n",
        "df.loc[973,'PP'] = [0] \n",
        "df.loc[973,'MC'] = [0] "
      ],
      "metadata": {
        "id": "g7gvbwD9VgzA"
      },
      "execution_count": null,
      "outputs": []
    },
    {
      "cell_type": "code",
      "source": [
        "# Total labeled segments\n",
        "\n",
        "# df['Labels'] = df['PP'].astype(str) + ' ' + df['SP'].astype(str) + ' ' + df['MC'].astype(str)\n",
        "# df['Labels'].value_counts().plot(kind='bar', figsize=(20, 10), fontsize=12, title='Total labeled segments');"
      ],
      "metadata": {
        "id": "vczomU9danG-"
      },
      "execution_count": null,
      "outputs": []
    },
    {
      "cell_type": "code",
      "source": [
        "# Dropping extra columns\n",
        "\n",
        "df = df.drop('Code', axis=1)\n",
        "df = df.drop('Segment end', axis=1)\n",
        "df = df.drop('Segment start', axis=1)\n",
        "df = df.drop('Labels', axis=1)"
      ],
      "metadata": {
        "id": "v52apSqEmU7k"
      },
      "execution_count": null,
      "outputs": []
    },
    {
      "cell_type": "code",
      "source": [
        "# Removing symbols\n",
        "\n",
        "symbols_regex = '♪(.*?)♪'\n",
        "symbols_regex2 = '♪'\n",
        "symbols_regex3 = '<i>'\n",
        "symbols_regex4 = '</i>'\n",
        "symbols_regex5 = '- '\n",
        "\n",
        "df['Segment text'] = df['Segment text'].apply(lambda x: re.sub(symbols_regex, '', x))\n",
        "df['Segment text'] = df['Segment text'].apply(lambda x: re.sub(symbols_regex2, '', x))\n",
        "df['Segment text'] = df['Segment text'].apply(lambda x: re.sub(symbols_regex3, '', x))\n",
        "df['Segment text'] = df['Segment text'].apply(lambda x: re.sub(symbols_regex4, '', x))\n",
        "df['Segment text'] = df['Segment text'].apply(lambda x: re.sub(symbols_regex5, '', x))"
      ],
      "metadata": {
        "id": "LFRMgJgVj5yG"
      },
      "execution_count": null,
      "outputs": []
    },
    {
      "cell_type": "code",
      "source": [
        "# Removing boilerplates\n",
        "\n",
        "boilerplate_regex = 'Synced & corrected by -robtor[-]?'\n",
        "boilerplate_regex2 = 'Synced & corrected by -robtor- | Resync by Alice www.addic7ed.com'\n",
        "boilerplate_regex3 = 'www.addic7ed.com'\n",
        "\n",
        "df['Segment text'] = df['Segment text'].apply(lambda x: re.sub(boilerplate_regex, '', x))\n",
        "df['Segment text'] = df['Segment text'].apply(lambda x: re.sub(boilerplate_regex2, '', x))\n",
        "df['Segment text'] = df['Segment text'].apply(lambda x: re.sub(boilerplate_regex3, '', x))"
      ],
      "metadata": {
        "id": "RAxKf83cj8zf"
      },
      "execution_count": null,
      "outputs": []
    },
    {
      "cell_type": "code",
      "source": [
        "# Removing speakers' names\n",
        "\n",
        "name_regex = '[A-Z][a-z]+\\: '\n",
        "\n",
        "df['Segment text'] = df['Segment text'].apply(lambda x: re.sub(name_regex, '', x))"
      ],
      "metadata": {
        "id": "gNhJTKdJkSs3"
      },
      "execution_count": null,
      "outputs": []
    },
    {
      "cell_type": "code",
      "source": [
        "# Removing [sounds]\n",
        "\n",
        "sounds_regex = '\\[.*?\\]'\n",
        "\n",
        "df['Segment text'] = df['Segment text'].apply(lambda x: re.sub(sounds_regex, '', x))"
      ],
      "metadata": {
        "id": "WNT4KxJQj9yh"
      },
      "execution_count": null,
      "outputs": []
    },
    {
      "cell_type": "code",
      "source": [
        "# Removing all punctuation except hyphens and apostrophes \n",
        "\n",
        "df['Segment text'] = df['Segment text'].str.replace('[^a-zA-Z0-9 :\\-\\']',' ', regex=True)"
      ],
      "metadata": {
        "id": "diXmbAqDs0n4"
      },
      "execution_count": null,
      "outputs": []
    },
    {
      "cell_type": "code",
      "source": [
        "# Lowercasing\n",
        "\n",
        "df['Segment text'] = df['Segment text'].str.lower()"
      ],
      "metadata": {
        "id": "Fwy_-mUsqnAP"
      },
      "execution_count": null,
      "outputs": []
    },
    {
      "cell_type": "code",
      "source": [
        "# Removing filler words\n",
        "\n",
        "filler_words = ['aah', 'aaaaaaah', 'aaaahh', 'ah', 'um', 'wow', \n",
        "                'uh', 'uh-huh', 'huh', 'ugh', 'oh', 'ooh', \n",
        "                'oooh', 'hey', 'mnh', 'mm-hmm', 'mm', 'hmm', \n",
        "                'hm', 'mnhmnh', 'yeah', 'y-yeah' 'ow', \n",
        "                'who-o-o-o-a', 'whoa', 'okay', 'n-o-o', 'o-okay', \n",
        "                'mwah', 'huh']\n",
        "\n",
        "df['Segment text'] = df['Segment text'].apply(lambda x: ' '.join([word for word in x.split() if word not in (filler_words)]))"
      ],
      "metadata": {
        "id": "Ya-5ecGN4E3m"
      },
      "execution_count": null,
      "outputs": []
    },
    {
      "cell_type": "code",
      "source": [
        "# Removing double spaces\n",
        "\n",
        "df['Segment text'] = df['Segment text'].apply(lambda x: re.sub(' +', ' ', x))"
      ],
      "metadata": {
        "id": "B6sNKGXu4GMs"
      },
      "execution_count": null,
      "outputs": []
    },
    {
      "cell_type": "code",
      "source": [
        "# Tokenizing the text and removing rows shorter than 2\n",
        "\n",
        "nlp = spacy.load('en_core_web_sm')\n",
        "\n",
        "df['Tokenized text'] = df['Segment text'].apply(lambda x: nlp.tokenizer(x))\n",
        "df['Token count'] = df['Tokenized text'].apply(lambda x: len(x))\n",
        "df = df[(df['Token count'] >= 2)]"
      ],
      "metadata": {
        "id": "cMlCJa32BBPw"
      },
      "execution_count": null,
      "outputs": []
    },
    {
      "cell_type": "code",
      "source": [
        "# Resetting index\n",
        "\n",
        "df = df.reset_index(drop=True)"
      ],
      "metadata": {
        "id": "u9mnUw6ElMLQ"
      },
      "execution_count": null,
      "outputs": []
    },
    {
      "cell_type": "code",
      "source": [
        "# Reordering the columns\n",
        "\n",
        "df = df.drop('Tokenized text', axis=1)\n",
        "df = df.drop('Token count', axis=1)\n",
        "df = df[['Segment text', 'PP', 'SP', 'MC']]"
      ],
      "metadata": {
        "id": "-fhszgf5Ii2F"
      },
      "execution_count": null,
      "outputs": []
    },
    {
      "cell_type": "markdown",
      "source": [
        "# Models"
      ],
      "metadata": {
        "id": "x_veHE5qCmIu"
      }
    },
    {
      "cell_type": "markdown",
      "source": [
        "Here, the task is framed as a multioutput regression problem. Multi-learning algorithms are covered on [this page](https://scikit-learn.org/stable/modules/multiclass.html) from the Scikit-Learn documentation. The machine learning algorithms that inherently support multioutput regression are [KNeighborsRegressor](https://scikit-learn.org/stable/modules/generated/sklearn.neighbors.KNeighborsRegressor.html), [LinearRegression](https://scikit-learn.org/stable/modules/generated/sklearn.linear_model.LinearRegression.html) and [DecisionTreeRegressor](https://scikit-learn.org/stable/modules/generated/sklearn.tree.DecisionTreeRegressor.html).\n",
        "\n"
      ],
      "metadata": {
        "id": "UJ9WwZ5AxCLp"
      }
    },
    {
      "cell_type": "markdown",
      "source": [
        "## Vectorizing (unigrams)"
      ],
      "metadata": {
        "id": "-Ot4KLqTDfMW"
      }
    },
    {
      "cell_type": "markdown",
      "source": [
        "Term frequency-inverse document frequency, a common baseline representation, is used to vectorize the text. Terms that have a document frequency lower than 1 are ignored. [TfidfVectorizer()](https://scikit-learn.org/stable/modules/generated/sklearn.feature_extraction.text.TfidfVectorizer.html) from the Scikit-Learn library converts documents to a matrix of TF-IDF features."
      ],
      "metadata": {
        "id": "lMhaJQLT47xd"
      }
    },
    {
      "cell_type": "code",
      "source": [
        "vectorizer = TfidfVectorizer(min_df=1)\n",
        "X = vectorizer.fit_transform(df['Segment text'].values)"
      ],
      "metadata": {
        "id": "LjVjewBBDmMs"
      },
      "execution_count": null,
      "outputs": []
    },
    {
      "cell_type": "markdown",
      "source": [
        "A [valid representation](https://scikit-learn.org/stable/modules/multiclass.html) of multioutput y is a dense matrix of shape (n_samples, n_classes) of class labels. A column wise concatenation of 1d multiclass variables."
      ],
      "metadata": {
        "id": "oooN5oBDw8tN"
      }
    },
    {
      "cell_type": "code",
      "source": [
        "y = df[['PP', 'SP', 'MC']].to_numpy()"
      ],
      "metadata": {
        "id": "HO71Ec4eCp4S"
      },
      "execution_count": null,
      "outputs": []
    },
    {
      "cell_type": "markdown",
      "source": [
        "Shape of the input vectors:"
      ],
      "metadata": {
        "id": "h6tGdlO440Gn"
      }
    },
    {
      "cell_type": "code",
      "source": [
        "print('Feature vector:', X.shape)\n",
        "print('Target vector:', y.shape)"
      ],
      "metadata": {
        "colab": {
          "base_uri": "https://localhost:8080/"
        },
        "id": "a6SVcSMLDpU-",
        "outputId": "62015ac3-3313-4598-d40f-b5ec9047b980"
      },
      "execution_count": null,
      "outputs": [
        {
          "output_type": "stream",
          "name": "stdout",
          "text": [
            "Feature vector: (1322, 6548)\n",
            "Target vector: (1322, 3)\n"
          ]
        }
      ]
    },
    {
      "cell_type": "markdown",
      "source": [
        "## Training and evaluating (cross-validation)"
      ],
      "metadata": {
        "id": "5qplEI7GEELg"
      }
    },
    {
      "cell_type": "markdown",
      "source": [
        "10-fold cross-validation with three repeats is used to evaluate the performance of the models. The mean absolute error (MAE) performance metric is used as the score."
      ],
      "metadata": {
        "id": "LGs3TEoh9cF0"
      }
    },
    {
      "cell_type": "code",
      "source": [
        "# k-Nearest Neighbors\n",
        "\n",
        "model = KNeighborsRegressor()\n",
        "cv = RepeatedKFold(n_splits=10, n_repeats=3, random_state=1)\n",
        "n_scores = cross_val_score(model, X, y, scoring='neg_mean_absolute_error', cv=cv, n_jobs=-1) \n",
        "n_scores = absolute(n_scores)\n",
        "print('MAE: %.3f (%.3f)' % (mean(n_scores), std(n_scores)))"
      ],
      "metadata": {
        "colab": {
          "base_uri": "https://localhost:8080/"
        },
        "id": "9-hquZx7EGyA",
        "outputId": "56aefbf8-c17b-4843-cb00-4351e532b356"
      },
      "execution_count": null,
      "outputs": [
        {
          "output_type": "stream",
          "name": "stdout",
          "text": [
            "MAE: 2.026 (0.075)\n"
          ]
        }
      ]
    },
    {
      "cell_type": "code",
      "source": [
        "# Decision Tree\n",
        "\n",
        "model = DecisionTreeRegressor()\n",
        "cv = RepeatedKFold(n_splits=10, n_repeats=3, random_state=1)\n",
        "n_scores = cross_val_score(model, X, y, scoring='neg_mean_absolute_error', cv=cv, n_jobs=-1) \n",
        "n_scores = absolute(n_scores)\n",
        "print('MAE: %.3f (%.3f)' % (mean(n_scores), std(n_scores)))"
      ],
      "metadata": {
        "colab": {
          "base_uri": "https://localhost:8080/"
        },
        "id": "2G6pfRCDbzzo",
        "outputId": "edc0a647-7130-4eb0-82c5-fbbbc6a2bc0c"
      },
      "execution_count": null,
      "outputs": [
        {
          "output_type": "stream",
          "name": "stdout",
          "text": [
            "MAE: 2.303 (0.135)\n"
          ]
        }
      ]
    },
    {
      "cell_type": "code",
      "source": [
        "# Linear Regression\n",
        "\n",
        "model = LinearRegression()\n",
        "cv = RepeatedKFold(n_splits=10, n_repeats=3, random_state=1)\n",
        "n_scores = cross_val_score(model, X, y, scoring='neg_mean_absolute_error', cv=cv, n_jobs=-1) \n",
        "n_scores = absolute(n_scores)\n",
        "print('MAE: %.3f (%.3f)' % (mean(n_scores), std(n_scores)))"
      ],
      "metadata": {
        "colab": {
          "base_uri": "https://localhost:8080/"
        },
        "id": "C1egAheYcEEx",
        "outputId": "37feda76-48c9-418c-80d6-1aee24fd5183"
      },
      "execution_count": null,
      "outputs": [
        {
          "output_type": "stream",
          "name": "stdout",
          "text": [
            "MAE: 2.474 (0.169)\n"
          ]
        }
      ]
    }
  ]
}