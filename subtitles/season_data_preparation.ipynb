{
  "nbformat": 4,
  "nbformat_minor": 0,
  "metadata": {
    "colab": {
      "provenance": []
    },
    "kernelspec": {
      "name": "python3",
      "display_name": "Python 3"
    },
    "language_info": {
      "name": "python"
    }
  },
  "cells": [
    {
      "cell_type": "markdown",
      "source": [
        "# Season 13 data preparation\n",
        "\n",
        "This is the second version of the software, which was created to support larger amounts of data. Here, the alignment was performed on all of the episodes from the thirteenth season of *Grey's Anatomy*. The input is the following:\n",
        "\n",
        " \n",
        "1.   An XLSX file containing the data from episode 13x01 to 13x24.\n",
        "2.   A ZIP file containing the subtitles of each episode.\n"
      ],
      "metadata": {
        "id": "g4wWDlJk0-9V"
      }
    },
    {
      "cell_type": "markdown",
      "source": [
        "# Libraries"
      ],
      "metadata": {
        "id": "d3IrGkgezUgN"
      }
    },
    {
      "cell_type": "markdown",
      "source": [
        "In addition to pandas and re, some additional libraries were used in order to extract and organize the files."
      ],
      "metadata": {
        "id": "C9P3z2lX0TGn"
      }
    },
    {
      "cell_type": "code",
      "execution_count": null,
      "metadata": {
        "id": "TwEQjR0Z08zM"
      },
      "outputs": [],
      "source": [
        "import pandas as pd\n",
        "import numpy as np\n",
        "import tempfile\n",
        "import zipfile\n",
        "import shutil\n",
        "import glob\n",
        "import os\n",
        "import re"
      ]
    },
    {
      "cell_type": "code",
      "source": [
        "pd.options.mode.chained_assignment = None "
      ],
      "metadata": {
        "id": "-PhcxRcDJ-To"
      },
      "execution_count": null,
      "outputs": []
    },
    {
      "cell_type": "markdown",
      "source": [
        "# Importing the files"
      ],
      "metadata": {
        "id": "01IWFsPi0HYx"
      }
    },
    {
      "cell_type": "code",
      "source": [
        "# Opening season 13 .xlsx file \n",
        "\n",
        "excel_path = input('Enter .xlsx file path: ')\n",
        "df_excel = pd.read_excel(excel_path)"
      ],
      "metadata": {
        "colab": {
          "base_uri": "https://localhost:8080/"
        },
        "id": "x50bsF4915lt",
        "outputId": "2f9d116b-e2d9-40ac-8ed9-8262d3682854"
      },
      "execution_count": null,
      "outputs": [
        {
          "name": "stdout",
          "output_type": "stream",
          "text": [
            "Enter .xlsx file path: /content/GAS12.xlsx\n"
          ]
        }
      ]
    },
    {
      "cell_type": "code",
      "source": [
        "# Structure of the .xlsx file\n",
        "\n",
        "df_excel"
      ],
      "metadata": {
        "colab": {
          "base_uri": "https://localhost:8080/",
          "height": 424
        },
        "id": "OrpGI77PQztN",
        "outputId": "c9f5f503-f59d-438d-c635-c6074b5b04e8"
      },
      "execution_count": null,
      "outputs": [
        {
          "output_type": "execute_result",
          "data": {
            "text/plain": [
              "     Series Season    Codice    Inizio      Fine  PP  SP  MC\n",
              "0        GA  GAS11  GAS11E01  00:00:00  00:00:27   0   0   0\n",
              "1        GA  GAS11  GAS11E01  00:00:27  00:00:48   0   6   0\n",
              "2        GA  GAS11  GAS11E01  00:00:48  00:00:58   0   6   0\n",
              "3        GA  GAS11  GAS11E01  00:00:58  00:01:11   0   6   0\n",
              "4        GA  GAS11  GAS11E01  00:01:11  00:01:16   0   6   0\n",
              "...     ...    ...       ...       ...       ...  ..  ..  ..\n",
              "1831     GA  GAS11  GAS11E24  00:37:08  00:37:48   0   6   0\n",
              "1832     GA  GAS11  GAS11E24  00:37:48  00:38:12   0   6   0\n",
              "1833     GA  GAS11  GAS11E24  00:38:12  00:40:25   0   6   0\n",
              "1834     GA  GAS11  GAS11E24  00:40:25  00:41:16   0   6   0\n",
              "1835     GA  GAS11  GAS11E24  00:41:16  00:42:07   0   6   0\n",
              "\n",
              "[1836 rows x 8 columns]"
            ],
            "text/html": [
              "\n",
              "  <div id=\"df-0e15d3bb-f842-42fa-8f3c-f58ef8fff98d\">\n",
              "    <div class=\"colab-df-container\">\n",
              "      <div>\n",
              "<style scoped>\n",
              "    .dataframe tbody tr th:only-of-type {\n",
              "        vertical-align: middle;\n",
              "    }\n",
              "\n",
              "    .dataframe tbody tr th {\n",
              "        vertical-align: top;\n",
              "    }\n",
              "\n",
              "    .dataframe thead th {\n",
              "        text-align: right;\n",
              "    }\n",
              "</style>\n",
              "<table border=\"1\" class=\"dataframe\">\n",
              "  <thead>\n",
              "    <tr style=\"text-align: right;\">\n",
              "      <th></th>\n",
              "      <th>Series</th>\n",
              "      <th>Season</th>\n",
              "      <th>Codice</th>\n",
              "      <th>Inizio</th>\n",
              "      <th>Fine</th>\n",
              "      <th>PP</th>\n",
              "      <th>SP</th>\n",
              "      <th>MC</th>\n",
              "    </tr>\n",
              "  </thead>\n",
              "  <tbody>\n",
              "    <tr>\n",
              "      <th>0</th>\n",
              "      <td>GA</td>\n",
              "      <td>GAS11</td>\n",
              "      <td>GAS11E01</td>\n",
              "      <td>00:00:00</td>\n",
              "      <td>00:00:27</td>\n",
              "      <td>0</td>\n",
              "      <td>0</td>\n",
              "      <td>0</td>\n",
              "    </tr>\n",
              "    <tr>\n",
              "      <th>1</th>\n",
              "      <td>GA</td>\n",
              "      <td>GAS11</td>\n",
              "      <td>GAS11E01</td>\n",
              "      <td>00:00:27</td>\n",
              "      <td>00:00:48</td>\n",
              "      <td>0</td>\n",
              "      <td>6</td>\n",
              "      <td>0</td>\n",
              "    </tr>\n",
              "    <tr>\n",
              "      <th>2</th>\n",
              "      <td>GA</td>\n",
              "      <td>GAS11</td>\n",
              "      <td>GAS11E01</td>\n",
              "      <td>00:00:48</td>\n",
              "      <td>00:00:58</td>\n",
              "      <td>0</td>\n",
              "      <td>6</td>\n",
              "      <td>0</td>\n",
              "    </tr>\n",
              "    <tr>\n",
              "      <th>3</th>\n",
              "      <td>GA</td>\n",
              "      <td>GAS11</td>\n",
              "      <td>GAS11E01</td>\n",
              "      <td>00:00:58</td>\n",
              "      <td>00:01:11</td>\n",
              "      <td>0</td>\n",
              "      <td>6</td>\n",
              "      <td>0</td>\n",
              "    </tr>\n",
              "    <tr>\n",
              "      <th>4</th>\n",
              "      <td>GA</td>\n",
              "      <td>GAS11</td>\n",
              "      <td>GAS11E01</td>\n",
              "      <td>00:01:11</td>\n",
              "      <td>00:01:16</td>\n",
              "      <td>0</td>\n",
              "      <td>6</td>\n",
              "      <td>0</td>\n",
              "    </tr>\n",
              "    <tr>\n",
              "      <th>...</th>\n",
              "      <td>...</td>\n",
              "      <td>...</td>\n",
              "      <td>...</td>\n",
              "      <td>...</td>\n",
              "      <td>...</td>\n",
              "      <td>...</td>\n",
              "      <td>...</td>\n",
              "      <td>...</td>\n",
              "    </tr>\n",
              "    <tr>\n",
              "      <th>1831</th>\n",
              "      <td>GA</td>\n",
              "      <td>GAS11</td>\n",
              "      <td>GAS11E24</td>\n",
              "      <td>00:37:08</td>\n",
              "      <td>00:37:48</td>\n",
              "      <td>0</td>\n",
              "      <td>6</td>\n",
              "      <td>0</td>\n",
              "    </tr>\n",
              "    <tr>\n",
              "      <th>1832</th>\n",
              "      <td>GA</td>\n",
              "      <td>GAS11</td>\n",
              "      <td>GAS11E24</td>\n",
              "      <td>00:37:48</td>\n",
              "      <td>00:38:12</td>\n",
              "      <td>0</td>\n",
              "      <td>6</td>\n",
              "      <td>0</td>\n",
              "    </tr>\n",
              "    <tr>\n",
              "      <th>1833</th>\n",
              "      <td>GA</td>\n",
              "      <td>GAS11</td>\n",
              "      <td>GAS11E24</td>\n",
              "      <td>00:38:12</td>\n",
              "      <td>00:40:25</td>\n",
              "      <td>0</td>\n",
              "      <td>6</td>\n",
              "      <td>0</td>\n",
              "    </tr>\n",
              "    <tr>\n",
              "      <th>1834</th>\n",
              "      <td>GA</td>\n",
              "      <td>GAS11</td>\n",
              "      <td>GAS11E24</td>\n",
              "      <td>00:40:25</td>\n",
              "      <td>00:41:16</td>\n",
              "      <td>0</td>\n",
              "      <td>6</td>\n",
              "      <td>0</td>\n",
              "    </tr>\n",
              "    <tr>\n",
              "      <th>1835</th>\n",
              "      <td>GA</td>\n",
              "      <td>GAS11</td>\n",
              "      <td>GAS11E24</td>\n",
              "      <td>00:41:16</td>\n",
              "      <td>00:42:07</td>\n",
              "      <td>0</td>\n",
              "      <td>6</td>\n",
              "      <td>0</td>\n",
              "    </tr>\n",
              "  </tbody>\n",
              "</table>\n",
              "<p>1836 rows × 8 columns</p>\n",
              "</div>\n",
              "      <button class=\"colab-df-convert\" onclick=\"convertToInteractive('df-0e15d3bb-f842-42fa-8f3c-f58ef8fff98d')\"\n",
              "              title=\"Convert this dataframe to an interactive table.\"\n",
              "              style=\"display:none;\">\n",
              "        \n",
              "  <svg xmlns=\"http://www.w3.org/2000/svg\" height=\"24px\"viewBox=\"0 0 24 24\"\n",
              "       width=\"24px\">\n",
              "    <path d=\"M0 0h24v24H0V0z\" fill=\"none\"/>\n",
              "    <path d=\"M18.56 5.44l.94 2.06.94-2.06 2.06-.94-2.06-.94-.94-2.06-.94 2.06-2.06.94zm-11 1L8.5 8.5l.94-2.06 2.06-.94-2.06-.94L8.5 2.5l-.94 2.06-2.06.94zm10 10l.94 2.06.94-2.06 2.06-.94-2.06-.94-.94-2.06-.94 2.06-2.06.94z\"/><path d=\"M17.41 7.96l-1.37-1.37c-.4-.4-.92-.59-1.43-.59-.52 0-1.04.2-1.43.59L10.3 9.45l-7.72 7.72c-.78.78-.78 2.05 0 2.83L4 21.41c.39.39.9.59 1.41.59.51 0 1.02-.2 1.41-.59l7.78-7.78 2.81-2.81c.8-.78.8-2.07 0-2.86zM5.41 20L4 18.59l7.72-7.72 1.47 1.35L5.41 20z\"/>\n",
              "  </svg>\n",
              "      </button>\n",
              "      \n",
              "  <style>\n",
              "    .colab-df-container {\n",
              "      display:flex;\n",
              "      flex-wrap:wrap;\n",
              "      gap: 12px;\n",
              "    }\n",
              "\n",
              "    .colab-df-convert {\n",
              "      background-color: #E8F0FE;\n",
              "      border: none;\n",
              "      border-radius: 50%;\n",
              "      cursor: pointer;\n",
              "      display: none;\n",
              "      fill: #1967D2;\n",
              "      height: 32px;\n",
              "      padding: 0 0 0 0;\n",
              "      width: 32px;\n",
              "    }\n",
              "\n",
              "    .colab-df-convert:hover {\n",
              "      background-color: #E2EBFA;\n",
              "      box-shadow: 0px 1px 2px rgba(60, 64, 67, 0.3), 0px 1px 3px 1px rgba(60, 64, 67, 0.15);\n",
              "      fill: #174EA6;\n",
              "    }\n",
              "\n",
              "    [theme=dark] .colab-df-convert {\n",
              "      background-color: #3B4455;\n",
              "      fill: #D2E3FC;\n",
              "    }\n",
              "\n",
              "    [theme=dark] .colab-df-convert:hover {\n",
              "      background-color: #434B5C;\n",
              "      box-shadow: 0px 1px 3px 1px rgba(0, 0, 0, 0.15);\n",
              "      filter: drop-shadow(0px 1px 2px rgba(0, 0, 0, 0.3));\n",
              "      fill: #FFFFFF;\n",
              "    }\n",
              "  </style>\n",
              "\n",
              "      <script>\n",
              "        const buttonEl =\n",
              "          document.querySelector('#df-0e15d3bb-f842-42fa-8f3c-f58ef8fff98d button.colab-df-convert');\n",
              "        buttonEl.style.display =\n",
              "          google.colab.kernel.accessAllowed ? 'block' : 'none';\n",
              "\n",
              "        async function convertToInteractive(key) {\n",
              "          const element = document.querySelector('#df-0e15d3bb-f842-42fa-8f3c-f58ef8fff98d');\n",
              "          const dataTable =\n",
              "            await google.colab.kernel.invokeFunction('convertToInteractive',\n",
              "                                                     [key], {});\n",
              "          if (!dataTable) return;\n",
              "\n",
              "          const docLinkHtml = 'Like what you see? Visit the ' +\n",
              "            '<a target=\"_blank\" href=https://colab.research.google.com/notebooks/data_table.ipynb>data table notebook</a>'\n",
              "            + ' to learn more about interactive tables.';\n",
              "          element.innerHTML = '';\n",
              "          dataTable['output_type'] = 'display_data';\n",
              "          await google.colab.output.renderOutput(dataTable, element);\n",
              "          const docLink = document.createElement('div');\n",
              "          docLink.innerHTML = docLinkHtml;\n",
              "          element.appendChild(docLink);\n",
              "        }\n",
              "      </script>\n",
              "    </div>\n",
              "  </div>\n",
              "  "
            ]
          },
          "metadata": {},
          "execution_count": 4
        }
      ]
    },
    {
      "cell_type": "code",
      "source": [
        "# Unzipping the contents of the .zip file to a temporary directory\n",
        "\n",
        "temp_dir = tempfile.TemporaryDirectory()\n",
        "zip_path = input('Enter .zip file path: ')\n",
        "\n",
        "with zipfile.ZipFile(zip_path) as z:\n",
        "  \n",
        "   for zip_info in z.infolist():\n",
        "    if zip_info.filename[-1] == '/':\n",
        "      continue\n",
        "\n",
        "    zip_info.filename = os.path.basename(zip_info.filename)\n",
        "    z.extract(zip_info, temp_dir.name)\n",
        "\n",
        "print('Temp directory path: ' + str(temp_dir.name))"
      ],
      "metadata": {
        "colab": {
          "base_uri": "https://localhost:8080/"
        },
        "id": "STd1AoPKiyBF",
        "outputId": "6433ee18-c6ab-45fc-ab71-ce8b276b57f4"
      },
      "execution_count": null,
      "outputs": [
        {
          "output_type": "stream",
          "name": "stdout",
          "text": [
            "Enter .zip file path: /content/subtitles_season_12.zip\n",
            "Temp directory path: /tmp/tmp7q710f4y\n"
          ]
        }
      ]
    },
    {
      "cell_type": "code",
      "source": [
        "# Getting the paths of the extracted .srt files\n",
        "\n",
        "srt_paths = []\n",
        "\n",
        "for filename in sorted(glob.glob(os.path.join(temp_dir.name, '*.srt'))):\n",
        "  srt_paths.append(filename)"
      ],
      "metadata": {
        "id": "d-G_pCRq_Y1H"
      },
      "execution_count": null,
      "outputs": []
    },
    {
      "cell_type": "markdown",
      "source": [
        "# Cleaning the data"
      ],
      "metadata": {
        "id": "-M1RYXZSu5zE"
      }
    },
    {
      "cell_type": "markdown",
      "source": [
        "Before aligning the files, the following cleaning was performed on the Excel file:\n",
        "*   Timestamps containing milliseconds were rounded to the nearest second\n",
        "*   Typographical errors were fixed (e.g. \"NA \", \"000:09:20,487\")\n",
        "*   NaNs were replaced with 0s\n",
        "*   Floats were converted to integers\n",
        "\n",
        "\n",
        "\n"
      ],
      "metadata": {
        "id": "PCnGX78avO06"
      }
    },
    {
      "cell_type": "code",
      "source": [
        "# Dropping columns\n",
        "\n",
        "df_excel = df_excel.drop(['Season', 'N_segmento', 'Durata', 'PP_rel', 'SP_rel', 'MC_rel', 'Note'], axis=1)"
      ],
      "metadata": {
        "id": "ky5AGWZbRkbC"
      },
      "execution_count": null,
      "outputs": []
    },
    {
      "cell_type": "code",
      "source": [
        "# Rounding start timestamps\n",
        "\n",
        "df_excel['Inizio'] = df_excel['Inizio'].astype(str)\n",
        "df_excel['Inizio'] = pd.to_datetime(df_excel['Inizio'], errors = 'coerce')\n",
        "df_excel['Inizio'] = df_excel['Inizio'].dt.round('1s')\n",
        "df_excel['Inizio'] = df_excel['Inizio'].dt.time"
      ],
      "metadata": {
        "id": "zcapaTjDHoBo"
      },
      "execution_count": null,
      "outputs": []
    },
    {
      "cell_type": "code",
      "source": [
        "# Rounding end timestamps\n",
        "\n",
        "df_excel['Fine'] = df_excel['Fine'].astype(str)\n",
        "df_excel['Fine'] = df_excel['Fine'].apply(lambda x : '00:09:20' if x=='000:09:20,487' else x) # Fixing a value in line 614\n",
        "df_excel['Fine'] = pd.to_datetime(df_excel['Fine'], errors = 'coerce')\n",
        "df_excel['Fine'] = df_excel['Fine'].dt.round('1s')\n",
        "df_excel['Fine'] = df_excel['Fine'].dt.time"
      ],
      "metadata": {
        "id": "dtss6Rm9Ik7l"
      },
      "execution_count": null,
      "outputs": []
    },
    {
      "cell_type": "code",
      "source": [
        "# Fixing other typographical errors\n",
        "\n",
        "df_excel.PP.replace('NA ', np.nan, inplace=True)\n",
        "df_excel.SP.replace('NA ', np.nan, inplace=True)\n",
        "df_excel.MC.replace('NA ', np.nan, inplace=True)\n",
        "df_excel.MC.replace('SP10', np.nan, inplace=True) # Fixing a value in line 786"
      ],
      "metadata": {
        "id": "CW7-kkqyLT9r"
      },
      "execution_count": null,
      "outputs": []
    },
    {
      "cell_type": "code",
      "source": [
        "# Replacing NaNs with 0s\n",
        "\n",
        "df_excel = df_excel.fillna(0)"
      ],
      "metadata": {
        "id": "-rlUzJYjLAlv"
      },
      "execution_count": null,
      "outputs": []
    },
    {
      "cell_type": "code",
      "source": [
        "# Converting floats to ints\n",
        "\n",
        "df_excel['PP'] = df_excel['PP'].astype(int)\n",
        "df_excel['SP'] = df_excel['SP'].astype(int)\n",
        "df_excel['MC'] = df_excel['MC'].astype(int)"
      ],
      "metadata": {
        "id": "08HrTRL0x8YP"
      },
      "execution_count": null,
      "outputs": []
    },
    {
      "cell_type": "code",
      "source": [
        "# Structure of the .xlsx file after cleaning\n",
        "\n",
        "df_excel"
      ],
      "metadata": {
        "colab": {
          "base_uri": "https://localhost:8080/",
          "height": 424
        },
        "id": "SbAjlUKHHoEG",
        "outputId": "e0d1f404-3311-4174-fd4c-a321af74ff9c"
      },
      "execution_count": null,
      "outputs": [
        {
          "output_type": "execute_result",
          "data": {
            "text/plain": [
              "     Series Season    Codice    Inizio      Fine  PP  SP  MC\n",
              "0        GA  GAS12  GAS12E01  00:00:00  00:00:07   0   0   0\n",
              "1        GA  GAS12  GAS12E01  00:00:07  00:00:27   0   6   0\n",
              "2        GA  GAS12  GAS12E01  00:00:27  00:00:29   0   0   0\n",
              "3        GA  GAS12  GAS12E01  00:00:29  00:00:56   0   6   0\n",
              "4        GA  GAS12  GAS12E01  00:00:56  00:01:10   0   6   0\n",
              "...     ...    ...       ...       ...       ...  ..  ..  ..\n",
              "1491     GA  GAS12  GAS12E24  00:38:59  00:39:58   0   6   0\n",
              "1492     GA  GAS12  GAS12E24  00:39:58  00:40:13   0   6   0\n",
              "1493     GA  GAS12  GAS12E24  00:40:13  00:40:17   0   6   0\n",
              "1494     GA  GAS12  GAS12E24  00:40:17  00:41:23   0   6   0\n",
              "1495     GA  GAS12  GAS12E24  00:41:23  00:42:13   0   6   0\n",
              "\n",
              "[1496 rows x 8 columns]"
            ],
            "text/html": [
              "\n",
              "  <div id=\"df-a6eda2bd-5f98-4d3f-82a6-a5c96ce52e2d\">\n",
              "    <div class=\"colab-df-container\">\n",
              "      <div>\n",
              "<style scoped>\n",
              "    .dataframe tbody tr th:only-of-type {\n",
              "        vertical-align: middle;\n",
              "    }\n",
              "\n",
              "    .dataframe tbody tr th {\n",
              "        vertical-align: top;\n",
              "    }\n",
              "\n",
              "    .dataframe thead th {\n",
              "        text-align: right;\n",
              "    }\n",
              "</style>\n",
              "<table border=\"1\" class=\"dataframe\">\n",
              "  <thead>\n",
              "    <tr style=\"text-align: right;\">\n",
              "      <th></th>\n",
              "      <th>Series</th>\n",
              "      <th>Season</th>\n",
              "      <th>Codice</th>\n",
              "      <th>Inizio</th>\n",
              "      <th>Fine</th>\n",
              "      <th>PP</th>\n",
              "      <th>SP</th>\n",
              "      <th>MC</th>\n",
              "    </tr>\n",
              "  </thead>\n",
              "  <tbody>\n",
              "    <tr>\n",
              "      <th>0</th>\n",
              "      <td>GA</td>\n",
              "      <td>GAS12</td>\n",
              "      <td>GAS12E01</td>\n",
              "      <td>00:00:00</td>\n",
              "      <td>00:00:07</td>\n",
              "      <td>0</td>\n",
              "      <td>0</td>\n",
              "      <td>0</td>\n",
              "    </tr>\n",
              "    <tr>\n",
              "      <th>1</th>\n",
              "      <td>GA</td>\n",
              "      <td>GAS12</td>\n",
              "      <td>GAS12E01</td>\n",
              "      <td>00:00:07</td>\n",
              "      <td>00:00:27</td>\n",
              "      <td>0</td>\n",
              "      <td>6</td>\n",
              "      <td>0</td>\n",
              "    </tr>\n",
              "    <tr>\n",
              "      <th>2</th>\n",
              "      <td>GA</td>\n",
              "      <td>GAS12</td>\n",
              "      <td>GAS12E01</td>\n",
              "      <td>00:00:27</td>\n",
              "      <td>00:00:29</td>\n",
              "      <td>0</td>\n",
              "      <td>0</td>\n",
              "      <td>0</td>\n",
              "    </tr>\n",
              "    <tr>\n",
              "      <th>3</th>\n",
              "      <td>GA</td>\n",
              "      <td>GAS12</td>\n",
              "      <td>GAS12E01</td>\n",
              "      <td>00:00:29</td>\n",
              "      <td>00:00:56</td>\n",
              "      <td>0</td>\n",
              "      <td>6</td>\n",
              "      <td>0</td>\n",
              "    </tr>\n",
              "    <tr>\n",
              "      <th>4</th>\n",
              "      <td>GA</td>\n",
              "      <td>GAS12</td>\n",
              "      <td>GAS12E01</td>\n",
              "      <td>00:00:56</td>\n",
              "      <td>00:01:10</td>\n",
              "      <td>0</td>\n",
              "      <td>6</td>\n",
              "      <td>0</td>\n",
              "    </tr>\n",
              "    <tr>\n",
              "      <th>...</th>\n",
              "      <td>...</td>\n",
              "      <td>...</td>\n",
              "      <td>...</td>\n",
              "      <td>...</td>\n",
              "      <td>...</td>\n",
              "      <td>...</td>\n",
              "      <td>...</td>\n",
              "      <td>...</td>\n",
              "    </tr>\n",
              "    <tr>\n",
              "      <th>1491</th>\n",
              "      <td>GA</td>\n",
              "      <td>GAS12</td>\n",
              "      <td>GAS12E24</td>\n",
              "      <td>00:38:59</td>\n",
              "      <td>00:39:58</td>\n",
              "      <td>0</td>\n",
              "      <td>6</td>\n",
              "      <td>0</td>\n",
              "    </tr>\n",
              "    <tr>\n",
              "      <th>1492</th>\n",
              "      <td>GA</td>\n",
              "      <td>GAS12</td>\n",
              "      <td>GAS12E24</td>\n",
              "      <td>00:39:58</td>\n",
              "      <td>00:40:13</td>\n",
              "      <td>0</td>\n",
              "      <td>6</td>\n",
              "      <td>0</td>\n",
              "    </tr>\n",
              "    <tr>\n",
              "      <th>1493</th>\n",
              "      <td>GA</td>\n",
              "      <td>GAS12</td>\n",
              "      <td>GAS12E24</td>\n",
              "      <td>00:40:13</td>\n",
              "      <td>00:40:17</td>\n",
              "      <td>0</td>\n",
              "      <td>6</td>\n",
              "      <td>0</td>\n",
              "    </tr>\n",
              "    <tr>\n",
              "      <th>1494</th>\n",
              "      <td>GA</td>\n",
              "      <td>GAS12</td>\n",
              "      <td>GAS12E24</td>\n",
              "      <td>00:40:17</td>\n",
              "      <td>00:41:23</td>\n",
              "      <td>0</td>\n",
              "      <td>6</td>\n",
              "      <td>0</td>\n",
              "    </tr>\n",
              "    <tr>\n",
              "      <th>1495</th>\n",
              "      <td>GA</td>\n",
              "      <td>GAS12</td>\n",
              "      <td>GAS12E24</td>\n",
              "      <td>00:41:23</td>\n",
              "      <td>00:42:13</td>\n",
              "      <td>0</td>\n",
              "      <td>6</td>\n",
              "      <td>0</td>\n",
              "    </tr>\n",
              "  </tbody>\n",
              "</table>\n",
              "<p>1496 rows × 8 columns</p>\n",
              "</div>\n",
              "      <button class=\"colab-df-convert\" onclick=\"convertToInteractive('df-a6eda2bd-5f98-4d3f-82a6-a5c96ce52e2d')\"\n",
              "              title=\"Convert this dataframe to an interactive table.\"\n",
              "              style=\"display:none;\">\n",
              "        \n",
              "  <svg xmlns=\"http://www.w3.org/2000/svg\" height=\"24px\"viewBox=\"0 0 24 24\"\n",
              "       width=\"24px\">\n",
              "    <path d=\"M0 0h24v24H0V0z\" fill=\"none\"/>\n",
              "    <path d=\"M18.56 5.44l.94 2.06.94-2.06 2.06-.94-2.06-.94-.94-2.06-.94 2.06-2.06.94zm-11 1L8.5 8.5l.94-2.06 2.06-.94-2.06-.94L8.5 2.5l-.94 2.06-2.06.94zm10 10l.94 2.06.94-2.06 2.06-.94-2.06-.94-.94-2.06-.94 2.06-2.06.94z\"/><path d=\"M17.41 7.96l-1.37-1.37c-.4-.4-.92-.59-1.43-.59-.52 0-1.04.2-1.43.59L10.3 9.45l-7.72 7.72c-.78.78-.78 2.05 0 2.83L4 21.41c.39.39.9.59 1.41.59.51 0 1.02-.2 1.41-.59l7.78-7.78 2.81-2.81c.8-.78.8-2.07 0-2.86zM5.41 20L4 18.59l7.72-7.72 1.47 1.35L5.41 20z\"/>\n",
              "  </svg>\n",
              "      </button>\n",
              "      \n",
              "  <style>\n",
              "    .colab-df-container {\n",
              "      display:flex;\n",
              "      flex-wrap:wrap;\n",
              "      gap: 12px;\n",
              "    }\n",
              "\n",
              "    .colab-df-convert {\n",
              "      background-color: #E8F0FE;\n",
              "      border: none;\n",
              "      border-radius: 50%;\n",
              "      cursor: pointer;\n",
              "      display: none;\n",
              "      fill: #1967D2;\n",
              "      height: 32px;\n",
              "      padding: 0 0 0 0;\n",
              "      width: 32px;\n",
              "    }\n",
              "\n",
              "    .colab-df-convert:hover {\n",
              "      background-color: #E2EBFA;\n",
              "      box-shadow: 0px 1px 2px rgba(60, 64, 67, 0.3), 0px 1px 3px 1px rgba(60, 64, 67, 0.15);\n",
              "      fill: #174EA6;\n",
              "    }\n",
              "\n",
              "    [theme=dark] .colab-df-convert {\n",
              "      background-color: #3B4455;\n",
              "      fill: #D2E3FC;\n",
              "    }\n",
              "\n",
              "    [theme=dark] .colab-df-convert:hover {\n",
              "      background-color: #434B5C;\n",
              "      box-shadow: 0px 1px 3px 1px rgba(0, 0, 0, 0.15);\n",
              "      filter: drop-shadow(0px 1px 2px rgba(0, 0, 0, 0.3));\n",
              "      fill: #FFFFFF;\n",
              "    }\n",
              "  </style>\n",
              "\n",
              "      <script>\n",
              "        const buttonEl =\n",
              "          document.querySelector('#df-a6eda2bd-5f98-4d3f-82a6-a5c96ce52e2d button.colab-df-convert');\n",
              "        buttonEl.style.display =\n",
              "          google.colab.kernel.accessAllowed ? 'block' : 'none';\n",
              "\n",
              "        async function convertToInteractive(key) {\n",
              "          const element = document.querySelector('#df-a6eda2bd-5f98-4d3f-82a6-a5c96ce52e2d');\n",
              "          const dataTable =\n",
              "            await google.colab.kernel.invokeFunction('convertToInteractive',\n",
              "                                                     [key], {});\n",
              "          if (!dataTable) return;\n",
              "\n",
              "          const docLinkHtml = 'Like what you see? Visit the ' +\n",
              "            '<a target=\"_blank\" href=https://colab.research.google.com/notebooks/data_table.ipynb>data table notebook</a>'\n",
              "            + ' to learn more about interactive tables.';\n",
              "          element.innerHTML = '';\n",
              "          dataTable['output_type'] = 'display_data';\n",
              "          await google.colab.output.renderOutput(dataTable, element);\n",
              "          const docLink = document.createElement('div');\n",
              "          docLink.innerHTML = docLinkHtml;\n",
              "          element.appendChild(docLink);\n",
              "        }\n",
              "      </script>\n",
              "    </div>\n",
              "  </div>\n",
              "  "
            ]
          },
          "metadata": {},
          "execution_count": 11
        }
      ]
    },
    {
      "cell_type": "markdown",
      "source": [
        "# Splitting the Excel file by episode"
      ],
      "metadata": {
        "id": "C5t1LQ_vyjm7"
      }
    },
    {
      "cell_type": "markdown",
      "source": [
        "The idea behind the following section is to split the Excel file so that each episode is stored as a separate DataFrame. This way, the procedure followed in episode_12x01_data_preparation.ipynb can be reimplemented for multiple episodes as well."
      ],
      "metadata": {
        "id": "47zkTQP91NGf"
      }
    },
    {
      "cell_type": "code",
      "source": [
        "# Finding where each episode starts and ends\n",
        "\n",
        "episode_start = []\n",
        "episode_end = []\n",
        "episode_start.append(0)\n",
        "\n",
        "for idx, val in enumerate(df_excel.Codice):\n",
        "\n",
        "    try:\n",
        "      if df_excel.Codice[idx] != df_excel.Codice[idx+1]:\n",
        "        episode_end.append(idx)\n",
        "        episode_start.append(idx+1)\n",
        "    \n",
        "    except Exception:\n",
        "      episode_end.append(len(df_excel.Codice))"
      ],
      "metadata": {
        "id": "fJ1v6ti518gv"
      },
      "execution_count": null,
      "outputs": []
    },
    {
      "cell_type": "code",
      "source": [
        "# Boundaries of each episode\n",
        "\n",
        "print(episode_start)\n",
        "print(episode_end)"
      ],
      "metadata": {
        "colab": {
          "base_uri": "https://localhost:8080/"
        },
        "id": "flyqi52x1-5i",
        "outputId": "021dd6d7-325c-40dd-b166-4f13ca88a778"
      },
      "execution_count": null,
      "outputs": [
        {
          "output_type": "stream",
          "name": "stdout",
          "text": [
            "[0, 68, 130, 196, 265, 324, 382, 450, 512, 558, 653, 719, 782, 857, 922, 978, 1046, 1113, 1170, 1228, 1279, 1336, 1387, 1433]\n",
            "[67, 129, 195, 264, 323, 381, 449, 511, 557, 652, 718, 781, 856, 921, 977, 1045, 1112, 1169, 1227, 1278, 1335, 1386, 1432, 1496]\n"
          ]
        }
      ]
    },
    {
      "cell_type": "code",
      "source": [
        "# Storing each episode as a separate DataFrame\n",
        "\n",
        "df_episodes_list = []\n",
        "\n",
        "for ep_start, ep_end in zip(episode_start, episode_end):\n",
        "\n",
        "  df_episode = df_excel.loc[ep_start:ep_end]\n",
        "  df_episodes_list.append(df_episode)\n",
        "\n",
        "print('Total episodes: ' + str(len(df_episodes_list)))"
      ],
      "metadata": {
        "colab": {
          "base_uri": "https://localhost:8080/"
        },
        "id": "u_MXlfd82Y9p",
        "outputId": "cf16e0c7-e79b-456f-bd8c-3c26a620fdde"
      },
      "execution_count": null,
      "outputs": [
        {
          "output_type": "stream",
          "name": "stdout",
          "text": [
            "Total episodes: 24\n"
          ]
        }
      ]
    },
    {
      "cell_type": "markdown",
      "source": [
        "# Defining the functions"
      ],
      "metadata": {
        "id": "GabFkEvAYRZN"
      }
    },
    {
      "cell_type": "markdown",
      "source": [
        "The following functions reimplement the procedure that was described in episode_12x01_data_preparation.ipynb. "
      ],
      "metadata": {
        "id": "-4bxBfLYKZzM"
      }
    },
    {
      "cell_type": "code",
      "source": [
        "# Computing the mean of each subtitle's timespan, which is used to align the subs with the Excel segments\n",
        "\n",
        "def average_time(average_times, start_times_datetime, end_times_datetime):\n",
        "\n",
        "  for s, e in zip(start_times_datetime, end_times_datetime):\n",
        "    ts1 = s\n",
        "    ts2 = e\n",
        "    average_time = ts1+(ts2-ts1)/2\n",
        "    average_times.append(average_time)"
      ],
      "metadata": {
        "id": "sinVnGnUjIUi"
      },
      "execution_count": null,
      "outputs": []
    },
    {
      "cell_type": "markdown",
      "source": [
        "The data extracted from the subtitles and the Excel file can be passed to the functions align_segments() or align_subs(). When executing the code, the user is asked to choose whether to align the data by segment (=to group subtitles that are part of the same segment) or by subtitle (=to display each subtitle independently)."
      ],
      "metadata": {
        "id": "Ep5oQ91kLwaI"
      }
    },
    {
      "cell_type": "code",
      "source": [
        "# If the user selects option [1] when alignment_type() is called, the data is aligned by segment\n",
        "\n",
        "def align_segments(df_subs, codice, inizio, fine, pp, sp, mc, aligned_subs):\n",
        "\n",
        "  for code, start, end, pp, sp, mc in zip(codice, inizio, fine, pp, sp, mc):\n",
        "    \n",
        "    mask = (df_subs['Average'] > start) & (df_subs['Average'] <= end)\n",
        "    mask_df = df_subs.loc[mask]\n",
        "\n",
        "    mask_df = mask_df.drop(['Average'], axis=1)\n",
        "    mask_df['PP'] = pp\n",
        "    mask_df = mask_df.groupby('PP')\n",
        "    mask_df = mask_df['Subtitle text'].agg(lambda column: ''.join(column))\n",
        "    mask_df = mask_df.reset_index(name='Subtitle text')\n",
        "    mask_df.rename(columns={'Subtitle text':'Segment text'}, inplace=True)\n",
        "    mask_df['SP'] = sp\n",
        "    mask_df['MC'] = mc\n",
        "    mask_df['Segment start'] = start   \n",
        "    mask_df['Segment end'] = end\n",
        "    mask_df['Code'] = code\n",
        "    mask_df = mask_df[['Code', 'Segment start', 'Segment end', 'PP', 'SP', 'MC', 'Segment text']]\n",
        "    aligned_subs.append(mask_df)"
      ],
      "metadata": {
        "id": "pjgqD0uD3mrq"
      },
      "execution_count": null,
      "outputs": []
    },
    {
      "cell_type": "code",
      "source": [
        "# If the user selects option [2] when alignment_type() is called, the data is aligned by subtitle\n",
        "\n",
        "def align_subs(df_subs, codice, inizio, fine, pp, sp, mc, aligned_subs):\n",
        "\n",
        "  for code, start, end, pp, sp, mc in zip(codice, inizio, fine, pp, sp, mc):\n",
        "    \n",
        "    mask = (df_subs['Average'] > start) & (df_subs['Average'] <= end)\n",
        "    mask_df = df_subs.loc[mask]\n",
        "\n",
        "    mask_df['PP'] = pp\n",
        "    mask_df['SP'] = sp\n",
        "    mask_df['MC'] = mc\n",
        "    mask_df['Subtitle start'] = mask_df['Start'].astype(str)\n",
        "    mask_df['Subtitle start'] = mask_df['Subtitle start'].str.replace(r'000$', '', regex=True)  \n",
        "    mask_df['Subtitle end'] = mask_df['End'].astype(str)\n",
        "    mask_df['Subtitle end'] = mask_df['Subtitle end'].str.replace(r'000$', '', regex=True) \n",
        "    mask_df['Start'] = start   \n",
        "    mask_df['End'] = end\n",
        "    mask_df['Code'] = code\n",
        "    mask_df = mask_df[['Code', 'Subtitle start', 'Subtitle end', 'PP', 'SP', 'MC', 'Subtitle text']]\n",
        "    aligned_subs.append(mask_df)"
      ],
      "metadata": {
        "id": "OvGol0TtGuVQ"
      },
      "execution_count": null,
      "outputs": []
    },
    {
      "cell_type": "markdown",
      "source": [
        "For each episode, the process is the same as before:\n",
        "\n",
        "1.   Parsing and storing subtitles in a DataFrame\n",
        "2.   Calculating the average of the subtitles' timespans\n",
        "3.   Using the average to perform the alignment either by segment or by subtitle\n",
        "4.   Storing the episode's DataFrame in a list \n",
        "5.   Repeating the process until all of the episodes have been aligned"
      ],
      "metadata": {
        "id": "rWdTwdoeNWO0"
      }
    },
    {
      "cell_type": "code",
      "source": [
        "import codecs\n",
        "\n",
        "def process_files(xlsx_file, srt_file, reply, aligned_episodes):\n",
        "\n",
        "  df_excel = xlsx_file\n",
        "\n",
        "  with codecs.open(srt_file, 'r', 'utf-8', 'replace') as f:\n",
        "    subs = f.read().splitlines()\n",
        "    subs = [x.encode('utf-8', 'replace').decode('utf-8') for x in subs]\n",
        "\n",
        "    # Parsing .srt file\n",
        "\n",
        "    re_pattern = r'[0-9]{2}:[0-9]{2}:[0-9]{2},[0-9]{3} -->'\n",
        "    regex = re.compile(re_pattern)\n",
        "\n",
        "    start_times = list(filter(regex.search, subs))\n",
        "    start_times = [time.split(' ')[0] for time in start_times]\n",
        "    start_times_datetime1 = pd.to_datetime(start_times, format='%H:%M:%S,%f')\n",
        "    start_times_datetime2 = pd.Series(start_times_datetime1, name='Start').dt.time\n",
        "\n",
        "    end_times = list(filter(regex.search,subs))\n",
        "    end_times = [time.split(' ')[2] for time in end_times]\n",
        "    end_times_datetime1 = pd.to_datetime(end_times, format='%H:%M:%S,%f')\n",
        "    end_times_datetime2 = pd.Series(end_times_datetime1, name='End').dt.time\n",
        "\n",
        "    subtitles = [[]]\n",
        "\n",
        "    for sub in subs:\n",
        "        if re.match(re_pattern, sub):\n",
        "          subtitles[-1].pop()\n",
        "          subtitles.append([])\n",
        "        else:\n",
        "          subtitles[-1].append(sub)\n",
        "\n",
        "    subtitles = subtitles[1:]\n",
        "    subtitles = [' '.join(x) for x in subtitles]\n",
        "    subtitles = pd.Series(subtitles, name='Subtitle text', dtype='string')\n",
        "\n",
        "    # Averaging timespans\n",
        "\n",
        "    average_times = []\n",
        "    average_time(average_times, start_times_datetime1, end_times_datetime1)\n",
        "    average_times = pd.Series(average_times, name='Average').dt.time\n",
        "\n",
        "    # Creating .srt DataFrame\n",
        "\n",
        "    df_subs = pd.concat([start_times_datetime2, end_times_datetime2, average_times, subtitles], axis=1)\n",
        "    df_subs = df_subs.reset_index(drop=True)\n",
        "\n",
        "    # Matching subtitles with segments\n",
        "\n",
        "    aligned_subs = []\n",
        "\n",
        "    if reply == '1':\n",
        "      align_segments(df_subs, df_excel.Codice, df_excel.Inizio, df_excel.Fine, df_excel.PP, df_excel.SP, df_excel.MC, aligned_subs)\n",
        "    \n",
        "    if reply == '2':\n",
        "      align_subs(df_subs, df_excel.Codice, df_excel.Inizio, df_excel.Fine, df_excel.PP, df_excel.SP, df_excel.MC, aligned_subs)\n",
        "\n",
        "    else:\n",
        "      pass\n",
        "\n",
        "    # Appending aligned episode to episode list\n",
        "\n",
        "    aligned_file = pd.concat(aligned_subs)\n",
        "    aligned_file.reset_index(drop=True)\n",
        "    aligned_episodes.append(aligned_file)"
      ],
      "metadata": {
        "id": "buWguAa7hgUe"
      },
      "execution_count": null,
      "outputs": []
    },
    {
      "cell_type": "markdown",
      "source": [
        "# Aligning the episodes"
      ],
      "metadata": {
        "id": "dnnAMqWjNU_R"
      }
    },
    {
      "cell_type": "markdown",
      "source": [
        "Calling the functions described above to perform the alignment."
      ],
      "metadata": {
        "id": "svh5MkOL_s5M"
      }
    },
    {
      "cell_type": "code",
      "source": [
        "aligned_episodes = []\n",
        "\n",
        "def alignment_type(question):\n",
        "\n",
        "  reply = str(input(question)).lower().strip()\n",
        "  \n",
        "  print('Aligning episodes...')\n",
        "\n",
        "  for xlsx, srt in zip(df_episodes_list, srt_paths):\n",
        "      process_files(xlsx, srt, reply, aligned_episodes)"
      ],
      "metadata": {
        "id": "teAcs2MlCnTi"
      },
      "execution_count": null,
      "outputs": []
    },
    {
      "cell_type": "code",
      "source": [
        "alignment_type('Align by segment [1] or Align by subtitle [2]? ') "
      ],
      "metadata": {
        "colab": {
          "base_uri": "https://localhost:8080/"
        },
        "id": "f0zowA6jF893",
        "outputId": "3873d59c-9a6e-4073-f004-97a4233a7c28"
      },
      "execution_count": null,
      "outputs": [
        {
          "output_type": "stream",
          "name": "stdout",
          "text": [
            "Align by segment [1] or Align by subtitle [2]? 2\n",
            "Aligning episodes...\n"
          ]
        }
      ]
    },
    {
      "cell_type": "markdown",
      "source": [
        "The list containing each episode's DataFrame is merged with pd.concat() to create a single DataFrame with all of the aligned data."
      ],
      "metadata": {
        "id": "5hXtkefdPlJE"
      }
    },
    {
      "cell_type": "code",
      "source": [
        "season_df = pd.concat(aligned_episodes)\n",
        "season_df = season_df.reset_index(drop=True)\n",
        "season_df"
      ],
      "metadata": {
        "id": "d-iqfspWM-yh",
        "colab": {
          "base_uri": "https://localhost:8080/",
          "height": 424
        },
        "outputId": "9124381e-1457-474a-87e0-57cb11b77924"
      },
      "execution_count": null,
      "outputs": [
        {
          "output_type": "execute_result",
          "data": {
            "text/plain": [
              "           Code Subtitle start  Subtitle end  PP  SP  MC  \\\n",
              "0      GAS12E01   00:00:00.804  00:00:02.701   0   0   0   \n",
              "1      GAS12E01   00:00:02.702  00:00:04.619   0   0   0   \n",
              "2      GAS12E01   00:00:04.620  00:00:07.288   0   0   0   \n",
              "3      GAS12E01   00:00:07.289  00:00:08.456   0   6   0   \n",
              "4      GAS12E01   00:00:08.457  00:00:10.291   0   6   0   \n",
              "...         ...            ...           ...  ..  ..  ..   \n",
              "22067  GAS12E24   00:42:00.204  00:42:02.305   0   6   0   \n",
              "22068  GAS12E24   00:42:03.808  00:42:06.977   0   6   0   \n",
              "22069  GAS12E24   00:42:07.011  00:42:09.079   0   6   0   \n",
              "22070  GAS12E24   00:42:09.113  00:42:11.081   0   6   0   \n",
              "22071  GAS12E24   00:42:11.115  00:42:13.763   0   6   0   \n",
              "\n",
              "                                     Subtitle text  \n",
              "0         Each of you comes here today hopeful...   \n",
              "1               I have five rules. Memorize them.   \n",
              "2                             Can anybody name...   \n",
              "3             <i>So, you might be thinking...</i>   \n",
              "4      Rule number five... When I move, you move.   \n",
              "...                                            ...  \n",
              "22067                                      Riggs.   \n",
              "22068                          I really like him.   \n",
              "22069                        I think he likes me.   \n",
              "22070                          <i>Or maybe...</i>   \n",
              "22071                    <i>Give me a minute.</i>   \n",
              "\n",
              "[22072 rows x 7 columns]"
            ],
            "text/html": [
              "\n",
              "  <div id=\"df-c392518c-7ef9-4685-9a09-a912ba00a816\">\n",
              "    <div class=\"colab-df-container\">\n",
              "      <div>\n",
              "<style scoped>\n",
              "    .dataframe tbody tr th:only-of-type {\n",
              "        vertical-align: middle;\n",
              "    }\n",
              "\n",
              "    .dataframe tbody tr th {\n",
              "        vertical-align: top;\n",
              "    }\n",
              "\n",
              "    .dataframe thead th {\n",
              "        text-align: right;\n",
              "    }\n",
              "</style>\n",
              "<table border=\"1\" class=\"dataframe\">\n",
              "  <thead>\n",
              "    <tr style=\"text-align: right;\">\n",
              "      <th></th>\n",
              "      <th>Code</th>\n",
              "      <th>Subtitle start</th>\n",
              "      <th>Subtitle end</th>\n",
              "      <th>PP</th>\n",
              "      <th>SP</th>\n",
              "      <th>MC</th>\n",
              "      <th>Subtitle text</th>\n",
              "    </tr>\n",
              "  </thead>\n",
              "  <tbody>\n",
              "    <tr>\n",
              "      <th>0</th>\n",
              "      <td>GAS12E01</td>\n",
              "      <td>00:00:00.804</td>\n",
              "      <td>00:00:02.701</td>\n",
              "      <td>0</td>\n",
              "      <td>0</td>\n",
              "      <td>0</td>\n",
              "      <td>Each of you comes here today hopeful...</td>\n",
              "    </tr>\n",
              "    <tr>\n",
              "      <th>1</th>\n",
              "      <td>GAS12E01</td>\n",
              "      <td>00:00:02.702</td>\n",
              "      <td>00:00:04.619</td>\n",
              "      <td>0</td>\n",
              "      <td>0</td>\n",
              "      <td>0</td>\n",
              "      <td>I have five rules. Memorize them.</td>\n",
              "    </tr>\n",
              "    <tr>\n",
              "      <th>2</th>\n",
              "      <td>GAS12E01</td>\n",
              "      <td>00:00:04.620</td>\n",
              "      <td>00:00:07.288</td>\n",
              "      <td>0</td>\n",
              "      <td>0</td>\n",
              "      <td>0</td>\n",
              "      <td>Can anybody name...</td>\n",
              "    </tr>\n",
              "    <tr>\n",
              "      <th>3</th>\n",
              "      <td>GAS12E01</td>\n",
              "      <td>00:00:07.289</td>\n",
              "      <td>00:00:08.456</td>\n",
              "      <td>0</td>\n",
              "      <td>6</td>\n",
              "      <td>0</td>\n",
              "      <td>&lt;i&gt;So, you might be thinking...&lt;/i&gt;</td>\n",
              "    </tr>\n",
              "    <tr>\n",
              "      <th>4</th>\n",
              "      <td>GAS12E01</td>\n",
              "      <td>00:00:08.457</td>\n",
              "      <td>00:00:10.291</td>\n",
              "      <td>0</td>\n",
              "      <td>6</td>\n",
              "      <td>0</td>\n",
              "      <td>Rule number five... When I move, you move.</td>\n",
              "    </tr>\n",
              "    <tr>\n",
              "      <th>...</th>\n",
              "      <td>...</td>\n",
              "      <td>...</td>\n",
              "      <td>...</td>\n",
              "      <td>...</td>\n",
              "      <td>...</td>\n",
              "      <td>...</td>\n",
              "      <td>...</td>\n",
              "    </tr>\n",
              "    <tr>\n",
              "      <th>22067</th>\n",
              "      <td>GAS12E24</td>\n",
              "      <td>00:42:00.204</td>\n",
              "      <td>00:42:02.305</td>\n",
              "      <td>0</td>\n",
              "      <td>6</td>\n",
              "      <td>0</td>\n",
              "      <td>Riggs.</td>\n",
              "    </tr>\n",
              "    <tr>\n",
              "      <th>22068</th>\n",
              "      <td>GAS12E24</td>\n",
              "      <td>00:42:03.808</td>\n",
              "      <td>00:42:06.977</td>\n",
              "      <td>0</td>\n",
              "      <td>6</td>\n",
              "      <td>0</td>\n",
              "      <td>I really like him.</td>\n",
              "    </tr>\n",
              "    <tr>\n",
              "      <th>22069</th>\n",
              "      <td>GAS12E24</td>\n",
              "      <td>00:42:07.011</td>\n",
              "      <td>00:42:09.079</td>\n",
              "      <td>0</td>\n",
              "      <td>6</td>\n",
              "      <td>0</td>\n",
              "      <td>I think he likes me.</td>\n",
              "    </tr>\n",
              "    <tr>\n",
              "      <th>22070</th>\n",
              "      <td>GAS12E24</td>\n",
              "      <td>00:42:09.113</td>\n",
              "      <td>00:42:11.081</td>\n",
              "      <td>0</td>\n",
              "      <td>6</td>\n",
              "      <td>0</td>\n",
              "      <td>&lt;i&gt;Or maybe...&lt;/i&gt;</td>\n",
              "    </tr>\n",
              "    <tr>\n",
              "      <th>22071</th>\n",
              "      <td>GAS12E24</td>\n",
              "      <td>00:42:11.115</td>\n",
              "      <td>00:42:13.763</td>\n",
              "      <td>0</td>\n",
              "      <td>6</td>\n",
              "      <td>0</td>\n",
              "      <td>&lt;i&gt;Give me a minute.&lt;/i&gt;</td>\n",
              "    </tr>\n",
              "  </tbody>\n",
              "</table>\n",
              "<p>22072 rows × 7 columns</p>\n",
              "</div>\n",
              "      <button class=\"colab-df-convert\" onclick=\"convertToInteractive('df-c392518c-7ef9-4685-9a09-a912ba00a816')\"\n",
              "              title=\"Convert this dataframe to an interactive table.\"\n",
              "              style=\"display:none;\">\n",
              "        \n",
              "  <svg xmlns=\"http://www.w3.org/2000/svg\" height=\"24px\"viewBox=\"0 0 24 24\"\n",
              "       width=\"24px\">\n",
              "    <path d=\"M0 0h24v24H0V0z\" fill=\"none\"/>\n",
              "    <path d=\"M18.56 5.44l.94 2.06.94-2.06 2.06-.94-2.06-.94-.94-2.06-.94 2.06-2.06.94zm-11 1L8.5 8.5l.94-2.06 2.06-.94-2.06-.94L8.5 2.5l-.94 2.06-2.06.94zm10 10l.94 2.06.94-2.06 2.06-.94-2.06-.94-.94-2.06-.94 2.06-2.06.94z\"/><path d=\"M17.41 7.96l-1.37-1.37c-.4-.4-.92-.59-1.43-.59-.52 0-1.04.2-1.43.59L10.3 9.45l-7.72 7.72c-.78.78-.78 2.05 0 2.83L4 21.41c.39.39.9.59 1.41.59.51 0 1.02-.2 1.41-.59l7.78-7.78 2.81-2.81c.8-.78.8-2.07 0-2.86zM5.41 20L4 18.59l7.72-7.72 1.47 1.35L5.41 20z\"/>\n",
              "  </svg>\n",
              "      </button>\n",
              "      \n",
              "  <style>\n",
              "    .colab-df-container {\n",
              "      display:flex;\n",
              "      flex-wrap:wrap;\n",
              "      gap: 12px;\n",
              "    }\n",
              "\n",
              "    .colab-df-convert {\n",
              "      background-color: #E8F0FE;\n",
              "      border: none;\n",
              "      border-radius: 50%;\n",
              "      cursor: pointer;\n",
              "      display: none;\n",
              "      fill: #1967D2;\n",
              "      height: 32px;\n",
              "      padding: 0 0 0 0;\n",
              "      width: 32px;\n",
              "    }\n",
              "\n",
              "    .colab-df-convert:hover {\n",
              "      background-color: #E2EBFA;\n",
              "      box-shadow: 0px 1px 2px rgba(60, 64, 67, 0.3), 0px 1px 3px 1px rgba(60, 64, 67, 0.15);\n",
              "      fill: #174EA6;\n",
              "    }\n",
              "\n",
              "    [theme=dark] .colab-df-convert {\n",
              "      background-color: #3B4455;\n",
              "      fill: #D2E3FC;\n",
              "    }\n",
              "\n",
              "    [theme=dark] .colab-df-convert:hover {\n",
              "      background-color: #434B5C;\n",
              "      box-shadow: 0px 1px 3px 1px rgba(0, 0, 0, 0.15);\n",
              "      filter: drop-shadow(0px 1px 2px rgba(0, 0, 0, 0.3));\n",
              "      fill: #FFFFFF;\n",
              "    }\n",
              "  </style>\n",
              "\n",
              "      <script>\n",
              "        const buttonEl =\n",
              "          document.querySelector('#df-c392518c-7ef9-4685-9a09-a912ba00a816 button.colab-df-convert');\n",
              "        buttonEl.style.display =\n",
              "          google.colab.kernel.accessAllowed ? 'block' : 'none';\n",
              "\n",
              "        async function convertToInteractive(key) {\n",
              "          const element = document.querySelector('#df-c392518c-7ef9-4685-9a09-a912ba00a816');\n",
              "          const dataTable =\n",
              "            await google.colab.kernel.invokeFunction('convertToInteractive',\n",
              "                                                     [key], {});\n",
              "          if (!dataTable) return;\n",
              "\n",
              "          const docLinkHtml = 'Like what you see? Visit the ' +\n",
              "            '<a target=\"_blank\" href=https://colab.research.google.com/notebooks/data_table.ipynb>data table notebook</a>'\n",
              "            + ' to learn more about interactive tables.';\n",
              "          element.innerHTML = '';\n",
              "          dataTable['output_type'] = 'display_data';\n",
              "          await google.colab.output.renderOutput(dataTable, element);\n",
              "          const docLink = document.createElement('div');\n",
              "          docLink.innerHTML = docLinkHtml;\n",
              "          element.appendChild(docLink);\n",
              "        }\n",
              "      </script>\n",
              "    </div>\n",
              "  </div>\n",
              "  "
            ]
          },
          "metadata": {},
          "execution_count": 21
        }
      ]
    },
    {
      "cell_type": "markdown",
      "source": [
        "# Deleting temporary files"
      ],
      "metadata": {
        "id": "TWgwkCO25s3k"
      }
    },
    {
      "cell_type": "markdown",
      "source": [
        "Deleting the temporary directory where the extracted .srt files were stored."
      ],
      "metadata": {
        "id": "BbODKG8LP6Gf"
      }
    },
    {
      "cell_type": "code",
      "source": [
        "shutil.rmtree(temp_dir.name)"
      ],
      "metadata": {
        "id": "GTq7g744t2e3"
      },
      "execution_count": null,
      "outputs": []
    },
    {
      "cell_type": "markdown",
      "source": [
        "# Exporting to Excel"
      ],
      "metadata": {
        "id": "vPGbJivv5pFW"
      }
    },
    {
      "cell_type": "code",
      "source": [
        "def yes_or_no(question):\n",
        "    reply = str(input(question+' [y/n]: ')).lower().strip()\n",
        "    if reply[0] == 'y':\n",
        "        return season_df.to_excel('season_12_with_subtitles.xlsx')\n",
        "        print('Exported to Excel')\n",
        "    if reply[0] == 'n':\n",
        "        pass\n",
        "    else:\n",
        "        pass"
      ],
      "metadata": {
        "id": "DSgHWnsxrErw"
      },
      "execution_count": null,
      "outputs": []
    },
    {
      "cell_type": "code",
      "source": [
        "yes_or_no('Export to Excel?') "
      ],
      "metadata": {
        "colab": {
          "base_uri": "https://localhost:8080/"
        },
        "id": "isgYMmsLtMYu",
        "outputId": "16f3a527-16ba-4975-9919-f1667f44d4f7"
      },
      "execution_count": null,
      "outputs": [
        {
          "name": "stdout",
          "output_type": "stream",
          "text": [
            "Export to Excel? [y/n]: y\n"
          ]
        }
      ]
    }
  ]
}